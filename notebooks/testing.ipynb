{
 "cells": [
  {
   "cell_type": "code",
   "execution_count": 9,
   "id": "basic-richards",
   "metadata": {},
   "outputs": [],
   "source": [
    "import numpy as np\n",
    "import pandas as pd\n",
    "import torch\n",
    "from torch.utils.data import Dataset, DataLoader\n",
    "from pytorch_transformers import BertTokenizer, BertForSequenceClassification, BertConfig\n",
    "from torch.optim import Adam\n",
    "import torch.nn.functional as F\n",
    "#load dataset\n",
    "train_df = pd.read_csv('../dataset/ratings_train.txt', sep='\\t')\n",
    "test_df = pd.read_csv('../dataset/ratings_test.txt', sep='\\t')    \n",
    "\n",
    "train_df = train_df.sample(frac=0.4, random_state=999)\n",
    "test_df = test_df.sample(frac=0.4, random_state=999)"
   ]
  },
  {
   "cell_type": "code",
   "execution_count": 10,
   "id": "amended-first",
   "metadata": {
    "tags": []
   },
   "outputs": [],
   "source": [
    "class Document(Dataset):\n",
    "    ''' Naver Sentiment Movie Corpus Dataset \n",
    "        initializer : data frame\n",
    "        length : length of each sentence(어절단위)\n",
    "        get itemized tokens :\n",
    "        text : 1st frame\n",
    "        label : 1: positive expression \n",
    "                2: negative expression\n",
    "    '''\n",
    "    def __init__(self, df):\n",
    "        self.df = df\n",
    "\n",
    "    def __len__(self):\n",
    "        return len(self.df)\n",
    "\n",
    "    def __getitem__(self, idx):\n",
    "        text = self.df.iloc[idx, 1]\n",
    "        label = self.df.iloc[idx, 2]\n",
    "        return text, label"
   ]
  },
  {
   "cell_type": "code",
   "execution_count": 11,
   "id": "unique-bullet",
   "metadata": {},
   "outputs": [],
   "source": [
    "PATH='D:\\\\RAPA\\\\VHEX-Tech-NLP\\\\outcomes\\\\model.pth'"
   ]
  },
  {
   "cell_type": "code",
   "execution_count": 12,
   "id": "handy-recovery",
   "metadata": {},
   "outputs": [
    {
     "data": {
      "text/plain": [
       "<All keys matched successfully>"
      ]
     },
     "execution_count": 12,
     "metadata": {},
     "output_type": "execute_result"
    }
   ],
   "source": [
    "device = torch.device(\"cpu\")\n",
    "tokenizer = BertTokenizer.from_pretrained('bert-base-multilingual-cased')\n",
    "model = BertForSequenceClassification.from_pretrained('bert-base-multilingual-cased')\n",
    "model.load_state_dict(torch.load(PATH))"
   ]
  },
  {
   "cell_type": "code",
   "execution_count": 13,
   "id": "capital-camera",
   "metadata": {},
   "outputs": [],
   "source": [
    "class Tester(Dataset):\n",
    "    ''' initializer : data frame\n",
    "        length : length of each sentence(어절단위)\n",
    "        get itemized tokens :\n",
    "        text : 1st frame\n",
    "        label : 1: positive expression \n",
    "                2: negative expression\n",
    "    '''\n",
    "    def __init__(self, df):\n",
    "        self.df = df\n",
    "\n",
    "    def __len__(self):\n",
    "        return len(self.df)\n",
    "\n",
    "    def __getitem__(self, idx):\n",
    "        text = self.df.iloc[idx, 0]\n",
    "        label = self.df.iloc[idx, 1]\n",
    "        return text, label\n",
    "\n",
    "def createtester(x,y):\n",
    "    my_dict = {\"a\": [x], \"b\": [y]}\n",
    "    df = pd.DataFrame(my_dict)\n",
    "    #text = df.iloc[idx, 0]\n",
    "    return df"
   ]
  },
  {
   "cell_type": "code",
   "execution_count": 17,
   "id": "analyzed-pantyhose",
   "metadata": {},
   "outputs": [],
   "source": [
    "#a=createtester('재미있고 정말정말 대단한 영화다. 10점 만점에 10점을 줄 수 밖에 없다!!!!!!!!!!',1)\n",
    "a=createtester('재미도 하나도 없는 정말 쓰레기 같은 영화다',0)\n",
    "b=Tester(a)"
   ]
  },
  {
   "cell_type": "code",
   "execution_count": 18,
   "id": "binary-comment",
   "metadata": {},
   "outputs": [
    {
     "name": "stderr",
     "output_type": "stream",
     "text": [
      "c:\\users\\songh\\appdata\\local\\programs\\python\\python37\\lib\\site-packages\\ipykernel_launcher.py:7: UserWarning: To copy construct from a tensor, it is recommended to use sourceTensor.clone().detach() or sourceTensor.clone().detach().requires_grad_(True), rather than torch.tensor(sourceTensor).\n",
      "  import sys\n",
      "c:\\users\\songh\\appdata\\local\\programs\\python\\python37\\lib\\site-packages\\ipykernel_launcher.py:10: UserWarning: Implicit dimension choice for softmax has been deprecated. Change the call to include dim=X as an argument.\n",
      "  # Remove the CWD from sys.path while we load stuff.\n"
     ]
    }
   ],
   "source": [
    "eval_loader = DataLoader(b, batch_size=2, shuffle=False, num_workers=0)\n",
    "for text, label in eval_loader:\n",
    "    encoded_list = [tokenizer.encode(t, add_special_tokens=True) for t in text]\n",
    "    padded_list =  [e + [0] * (512-len(e)) for e in encoded_list]\n",
    "    sample = torch.tensor(padded_list)\n",
    "    sample, label = sample.to(device), label.to(device)\n",
    "    labels = torch.tensor(label)\n",
    "    outputs = model(sample, labels=labels)\n",
    "    _, logits = outputs\n",
    "pred = torch.argmax(F.softmax(logits), dim=1)\n",
    "correct = pred.eq(labels)"
   ]
  },
  {
   "cell_type": "code",
   "execution_count": 19,
   "id": "correct-extra",
   "metadata": {},
   "outputs": [
    {
     "data": {
      "text/plain": [
       "tensor([True])"
      ]
     },
     "execution_count": 19,
     "metadata": {},
     "output_type": "execute_result"
    }
   ],
   "source": [
    "correct"
   ]
  },
  {
   "cell_type": "code",
   "execution_count": null,
   "id": "portuguese-reality",
   "metadata": {},
   "outputs": [],
   "source": []
  }
 ],
 "metadata": {
  "kernelspec": {
   "display_name": "Python 3",
   "language": "python",
   "name": "python3"
  },
  "language_info": {
   "codemirror_mode": {
    "name": "ipython",
    "version": 3
   },
   "file_extension": ".py",
   "mimetype": "text/x-python",
   "name": "python",
   "nbconvert_exporter": "python",
   "pygments_lexer": "ipython3",
   "version": "3.7.9"
  }
 },
 "nbformat": 4,
 "nbformat_minor": 5
}
