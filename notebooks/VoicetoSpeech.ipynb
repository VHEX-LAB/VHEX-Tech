{
 "cells": [
  {
   "cell_type": "markdown",
   "id": "likely-joining",
   "metadata": {},
   "source": [
    "# VHEX.Tech-NLP\n",
    "본 노트북은 VHEX팀의 자연어처리 및 관련 자료들을 개발하기 위한 공간입니다. 마크다운 형식이라면 어떤 스타일이든지 가능하며, 필수적으로-\n",
    "1. 작성일시\n",
    "2. 작성자 정보(팀)\n",
    "3. 작성(추가/변경/삭제)내용\n",
    "의 세 가지는 꼭 기입하셔서 버전 관리를 용이하게 할 수 있도록 해주시면 좋겠습니다"
   ]
  },
  {
   "cell_type": "markdown",
   "id": "powerful-variety",
   "metadata": {},
   "source": [
    "## 1. 작성일시\n",
    "2021.06.08\n",
    "## 2. 작성자 정보(팀)\n",
    "한승현(VHEX.Tech)\n",
    "## 3. 작성내용\n",
    "Speech To Text (STT) with using youtube's api\n",
    "### 3.1 유의사항\n",
    "1. googlec cloud 설치 및 api permission key(json) 받을 필요 있음.\n",
    "2. gcloud init\n",
    "3. set google_application_credentials (json)\n",
    "4. 음성 인식은 16000hz로 변환 필요, ffmpeg 사용할 것, 명령어는 ffmpeg -i \"인풋\" -acodec pcm_s16le -ac 1 -ar 16000 \"아웃풋\""
   ]
  },
  {
   "cell_type": "code",
   "execution_count": 10,
   "id": "posted-exclusive",
   "metadata": {},
   "outputs": [
    {
     "name": "stderr",
     "output_type": "stream",
     "text": [
      "ffmpeg version 4.4-full_build-www.gyan.dev Copyright (c) 2000-2021 the FFmpeg developers\n",
      "  built with gcc 10.2.0 (Rev6, Built by MSYS2 project)\n",
      "  configuration: --enable-gpl --enable-version3 --enable-static --disable-w32threads --disable-autodetect --enable-fontconfig --enable-iconv --enable-gnutls --enable-libxml2 --enable-gmp --enable-lzma --enable-libsnappy --enable-zlib --enable-librist --enable-libsrt --enable-libssh --enable-libzmq --enable-avisynth --enable-libbluray --enable-libcaca --enable-sdl2 --enable-libdav1d --enable-libzvbi --enable-librav1e --enable-libsvtav1 --enable-libwebp --enable-libx264 --enable-libx265 --enable-libxvid --enable-libaom --enable-libopenjpeg --enable-libvpx --enable-libass --enable-frei0r --enable-libfreetype --enable-libfribidi --enable-libvidstab --enable-libvmaf --enable-libzimg --enable-amf --enable-cuda-llvm --enable-cuvid --enable-ffnvcodec --enable-nvdec --enable-nvenc --enable-d3d11va --enable-dxva2 --enable-libmfx --enable-libglslang --enable-vulkan --enable-opencl --enable-libcdio --enable-libgme --enable-libmodplug --enable-libopenmpt --enable-libopencore-amrwb --enable-libmp3lame --enable-libshine --enable-libtheora --enable-libtwolame --enable-libvo-amrwbenc --enable-libilbc --enable-libgsm --enable-libopencore-amrnb --enable-libopus --enable-libspeex --enable-libvorbis --enable-ladspa --enable-libbs2b --enable-libflite --enable-libmysofa --enable-librubberband --enable-libsoxr --enable-chromaprint\n",
      "  libavutil      56. 70.100 / 56. 70.100\n",
      "  libavcodec     58.134.100 / 58.134.100\n",
      "  libavformat    58. 76.100 / 58. 76.100\n",
      "  libavdevice    58. 13.100 / 58. 13.100\n",
      "  libavfilter     7.110.100 /  7.110.100\n",
      "  libswscale      5.  9.100 /  5.  9.100\n",
      "  libswresample   3.  9.100 /  3.  9.100\n",
      "  libpostproc    55.  9.100 / 55.  9.100\n",
      "Input #0, mov,mp4,m4a,3gp,3g2,mj2, from '../../gcloud/test.m4a':\n",
      "  Metadata:\n",
      "    major_brand     : mp42\n",
      "    minor_version   : 0\n",
      "    compatible_brands: mp41isom\n",
      "    creation_time   : 2021-06-09T06:27:47.000000Z\n",
      "    date            : 2021\n",
      "    title           : �끃�쓬\n",
      "    album_artist    : �쓬�꽦 �끃�쓬湲�\n",
      "  Duration: 00:00:03.78, start: 0.000000, bitrate: 197 kb/s\n",
      "  Stream #0:0(und): Audio: aac (LC) (mp4a / 0x6134706D), 48000 Hz, stereo, fltp, 194 kb/s (default)\n",
      "    Metadata:\n",
      "      creation_time   : 2021-06-09T06:27:47.000000Z\n",
      "      handler_name    : SoundHandler\n",
      "      vendor_id       : [0][0][0][0]\n",
      "Stream mapping:\n",
      "  Stream #0:0 -> #0:0 (aac (native) -> pcm_s16le (native))\n",
      "Press [q] to stop, [?] for help\n",
      "Output #0, wav, to '../../gcloud/test.wav':\n",
      "  Metadata:\n",
      "    major_brand     : mp42\n",
      "    minor_version   : 0\n",
      "    compatible_brands: mp41isom\n",
      "    album_artist    : �쓬�꽦 �끃�쓬湲�\n",
      "    ICRD            : 2021\n",
      "    INAM            : �끃�쓬\n",
      "    ISFT            : Lavf58.76.100\n",
      "  Stream #0:0(und): Audio: pcm_s16le ([1][0][0][0] / 0x0001), 16000 Hz, mono, s16, 256 kb/s (default)\n",
      "    Metadata:\n",
      "      creation_time   : 2021-06-09T06:27:47.000000Z\n",
      "      handler_name    : SoundHandler\n",
      "      vendor_id       : [0][0][0][0]\n",
      "      encoder         : Lavc58.134.100 pcm_s16le\n",
      "size=       1kB time=00:00:00.00 bitrate=N/A speed=   0x    \n",
      "size=     118kB time=00:00:03.77 bitrate= 256.3kbits/s speed= 376x    \n",
      "video:0kB audio:118kB subtitle:0kB other streams:0kB global headers:0kB muxing overhead: 0.089380%\n"
     ]
    }
   ],
   "source": [
    "!ffmpeg -i \"../../gcloud/test.m4a\" -acodec pcm_s16le -ac 1 -ar 16000 \"../../gcloud/test.wav\""
   ]
  },
  {
   "cell_type": "code",
   "execution_count": 11,
   "id": "joint-grounds",
   "metadata": {},
   "outputs": [],
   "source": [
    "import re\n",
    "def transcribe_file(speech_file):\n",
    "    \"\"\"Transcribe the given audio file.\"\"\"\n",
    "    from google.cloud import speech\n",
    "    import io\n",
    "\n",
    "    client = speech.SpeechClient()\n",
    "\n",
    "    with io.open(speech_file, \"rb\") as audio_file:\n",
    "        content = audio_file.read()\n",
    "\n",
    "    audio = speech.RecognitionAudio(content=content)\n",
    "    config = speech.RecognitionConfig(\n",
    "        encoding=speech.RecognitionConfig.AudioEncoding.LINEAR16,\n",
    "        sample_rate_hertz=16000,\n",
    "        language_code=\"ko-KR\",\n",
    "    )\n",
    "\n",
    "    response = client.recognize(config=config, audio=audio)\n",
    "\n",
    "    # Each result is for a consecutive portion of the audio. Iterate through\n",
    "    # them to get the transcripts for the entire audio file.\n",
    "    for result in response.results:\n",
    "        # The first alternative is the most likely one for this portion.\n",
    "        print(u\"Transcript: {}\".format(result.alternatives[0].transcript))"
   ]
  },
  {
   "cell_type": "code",
   "execution_count": 13,
   "id": "innocent-trial",
   "metadata": {},
   "outputs": [
    {
     "name": "stdout",
     "output_type": "stream",
     "text": [
      "Transcript: 안녕하세요 제 이름은 한승현입니다\n"
     ]
    }
   ],
   "source": [
    "transcribe_file(u'../../gcloud/test.wav')"
   ]
  },
  {
   "cell_type": "code",
   "execution_count": 9,
   "id": "central-elder",
   "metadata": {},
   "outputs": [
    {
     "name": "stdout",
     "output_type": "stream",
     "text": [
      "Transcript: 지금 제가 하는 말 목소리가 입력이 되시나요\n"
     ]
    }
   ],
   "source": [
    "transcribe_file(u'../../gcloud/sample.wav')"
   ]
  },
  {
   "cell_type": "code",
   "execution_count": null,
   "id": "conventional-times",
   "metadata": {},
   "outputs": [],
   "source": []
  }
 ],
 "metadata": {
  "kernelspec": {
   "display_name": "Python 3",
   "language": "python",
   "name": "python3"
  },
  "language_info": {
   "codemirror_mode": {
    "name": "ipython",
    "version": 3
   },
   "file_extension": ".py",
   "mimetype": "text/x-python",
   "name": "python",
   "nbconvert_exporter": "python",
   "pygments_lexer": "ipython3",
   "version": "3.7.9"
  }
 },
 "nbformat": 4,
 "nbformat_minor": 5
}
